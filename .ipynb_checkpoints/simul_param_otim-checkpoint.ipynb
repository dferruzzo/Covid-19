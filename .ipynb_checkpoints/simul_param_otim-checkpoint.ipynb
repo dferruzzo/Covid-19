{
 "cells": [
  {
   "cell_type": "markdown",
   "metadata": {},
   "source": [
    "# Simulações \n",
    "Data: 16/02/2021, Autor: Diego Ferruzzo\n",
    "\n",
    "Simulações do modelo:\n",
    "\\begin{align}\n",
    "\\begin{split}\n",
    "%\\dfrac{ds}{dt}&=\\mu -\\alpha(1-\\theta)si-\\mu s+\\gamma (1-s-i-s_{ick})-\\omega s\\\\\n",
    "%\\dfrac{ds}{dt}&=\\mu+\\gamma -\\alpha(1-\\theta)si-\\mu s-\\gamma (s+i+s_{ick})-\\omega s\\\\\n",
    "\\dfrac{ds}{dt}&=\\mu+\\gamma -\\alpha(1-\\theta)si-(\\mu+\\gamma+\\omega) s -\\gamma i -\\gamma s_{ick}\\\\\n",
    "%\n",
    "\\dfrac{di}{dt}&=\\alpha(1-\\theta)si-(\\beta_1+\\beta_2+\\mu)i\\\\\n",
    "\\dfrac{ds_{ick}}{dt}&=\\beta_2i-(\\beta_3+\\mu)s_{ick}\n",
    "\\end{split}\n",
    "\\label{eq:constant-perc-pop-reduced-model}\n",
    "\\end{align}\n",
    "com os parâmetros ótimos obtidos com o *script* 'Ajuste do Índice de Isolamento.ipynb'"
   ]
  },
  {
   "cell_type": "code",
   "execution_count": 1,
   "metadata": {},
   "outputs": [],
   "source": [
    "# Carregando librarias\n",
    "import numpy as np\n",
    "import pandas as pd\n",
    "import matplotlib.pyplot as plt\n",
    "import matplotlib.dates as mdates\n",
    "from myfunctions import rk4, modelo_vac_1\n",
    "from scipy.integrate import odeint\n",
    "import datetime\n",
    "# parâmetros para ajustar o tamanho das figuras\n",
    "plt.rcParams['figure.figsize'] = [15, 5]\n",
    "plt.rcParams['figure.dpi'] = 100 # 200 e.g. is really fine, but slower"
   ]
  },
  {
   "cell_type": "markdown",
   "metadata": {},
   "source": [
    "## Carregando dados e parâmetros\n",
    "Os parâmetros obtidos estão no arquivo 'param_otim.csv'"
   ]
  },
  {
   "cell_type": "code",
   "execution_count": 2,
   "metadata": {},
   "outputs": [
    {
     "data": {
      "text/html": [
       "<div>\n",
       "<style scoped>\n",
       "    .dataframe tbody tr th:only-of-type {\n",
       "        vertical-align: middle;\n",
       "    }\n",
       "\n",
       "    .dataframe tbody tr th {\n",
       "        vertical-align: top;\n",
       "    }\n",
       "\n",
       "    .dataframe thead th {\n",
       "        text-align: right;\n",
       "    }\n",
       "</style>\n",
       "<table border=\"1\" class=\"dataframe\">\n",
       "  <thead>\n",
       "    <tr style=\"text-align: right;\">\n",
       "      <th></th>\n",
       "      <th>Parametros</th>\n",
       "      <th>Valor</th>\n",
       "    </tr>\n",
       "  </thead>\n",
       "  <tbody>\n",
       "    <tr>\n",
       "      <th>0</th>\n",
       "      <td>mu</td>\n",
       "      <td>0.000020</td>\n",
       "    </tr>\n",
       "    <tr>\n",
       "      <th>1</th>\n",
       "      <td>gamma</td>\n",
       "      <td>0.027692</td>\n",
       "    </tr>\n",
       "    <tr>\n",
       "      <th>2</th>\n",
       "      <td>alpha</td>\n",
       "      <td>0.669869</td>\n",
       "    </tr>\n",
       "    <tr>\n",
       "      <th>3</th>\n",
       "      <td>beta1</td>\n",
       "      <td>0.142857</td>\n",
       "    </tr>\n",
       "    <tr>\n",
       "      <th>4</th>\n",
       "      <td>beta2</td>\n",
       "      <td>0.181884</td>\n",
       "    </tr>\n",
       "    <tr>\n",
       "      <th>5</th>\n",
       "      <td>beta3</td>\n",
       "      <td>0.066667</td>\n",
       "    </tr>\n",
       "    <tr>\n",
       "      <th>6</th>\n",
       "      <td>s0</td>\n",
       "      <td>0.999786</td>\n",
       "    </tr>\n",
       "    <tr>\n",
       "      <th>7</th>\n",
       "      <td>i0</td>\n",
       "      <td>0.000214</td>\n",
       "    </tr>\n",
       "  </tbody>\n",
       "</table>\n",
       "</div>"
      ],
      "text/plain": [
       "  Parametros     Valor\n",
       "0         mu  0.000020\n",
       "1      gamma  0.027692\n",
       "2      alpha  0.669869\n",
       "3      beta1  0.142857\n",
       "4      beta2  0.181884\n",
       "5      beta3  0.066667\n",
       "6         s0  0.999786\n",
       "7         i0  0.000214"
      ]
     },
     "execution_count": 2,
     "metadata": {},
     "output_type": "execute_result"
    }
   ],
   "source": [
    "parametros = pd.read_csv('param_otim.csv')\n",
    "mu_otm = parametros['Valor'][0]\n",
    "gamma_otm = parametros['Valor'][1]\n",
    "alpha_otm = parametros['Valor'][2]\n",
    "beta1_otm = parametros['Valor'][3]\n",
    "beta2_otm = parametros['Valor'][4]\n",
    "beta3_otm = parametros['Valor'][5]\n",
    "s0_otm = parametros['Valor'][6]\n",
    "i0_otm = parametros['Valor'][7]\n",
    "parametros"
   ]
  },
  {
   "cell_type": "markdown",
   "metadata": {},
   "source": [
    "Carregando os dados das simulações obtidas na otimização"
   ]
  },
  {
   "cell_type": "code",
   "execution_count": 3,
   "metadata": {},
   "outputs": [],
   "source": [
    "simulac = pd.read_csv('simula_otim.csv').to_numpy()"
   ]
  },
  {
   "cell_type": "markdown",
   "metadata": {},
   "source": [
    "Carregando dados reais de casos confirmados de COVID-19 para a cidade de São Paulo"
   ]
  },
  {
   "cell_type": "code",
   "execution_count": 4,
   "metadata": {},
   "outputs": [
    {
     "data": {
      "text/html": [
       "<div>\n",
       "<style scoped>\n",
       "    .dataframe tbody tr th:only-of-type {\n",
       "        vertical-align: middle;\n",
       "    }\n",
       "\n",
       "    .dataframe tbody tr th {\n",
       "        vertical-align: top;\n",
       "    }\n",
       "\n",
       "    .dataframe thead th {\n",
       "        text-align: right;\n",
       "    }\n",
       "</style>\n",
       "<table border=\"1\" class=\"dataframe\">\n",
       "  <thead>\n",
       "    <tr style=\"text-align: right;\">\n",
       "      <th></th>\n",
       "      <th>datahora</th>\n",
       "      <th>casos</th>\n",
       "      <th>obitos</th>\n",
       "      <th>pop</th>\n",
       "    </tr>\n",
       "  </thead>\n",
       "  <tbody>\n",
       "    <tr>\n",
       "      <th>0</th>\n",
       "      <td>2020-02-25</td>\n",
       "      <td>1</td>\n",
       "      <td>0</td>\n",
       "      <td>11869660</td>\n",
       "    </tr>\n",
       "    <tr>\n",
       "      <th>1</th>\n",
       "      <td>2020-02-26</td>\n",
       "      <td>1</td>\n",
       "      <td>0</td>\n",
       "      <td>11869660</td>\n",
       "    </tr>\n",
       "    <tr>\n",
       "      <th>2</th>\n",
       "      <td>2020-02-27</td>\n",
       "      <td>1</td>\n",
       "      <td>0</td>\n",
       "      <td>11869660</td>\n",
       "    </tr>\n",
       "    <tr>\n",
       "      <th>3</th>\n",
       "      <td>2020-02-28</td>\n",
       "      <td>2</td>\n",
       "      <td>0</td>\n",
       "      <td>11869660</td>\n",
       "    </tr>\n",
       "    <tr>\n",
       "      <th>4</th>\n",
       "      <td>2020-02-29</td>\n",
       "      <td>2</td>\n",
       "      <td>0</td>\n",
       "      <td>11869660</td>\n",
       "    </tr>\n",
       "  </tbody>\n",
       "</table>\n",
       "</div>"
      ],
      "text/plain": [
       "     datahora  casos  obitos       pop\n",
       "0  2020-02-25      1       0  11869660\n",
       "1  2020-02-26      1       0  11869660\n",
       "2  2020-02-27      1       0  11869660\n",
       "3  2020-02-28      2       0  11869660\n",
       "4  2020-02-29      2       0  11869660"
      ]
     },
     "execution_count": 4,
     "metadata": {},
     "output_type": "execute_result"
    }
   ],
   "source": [
    "saopaulo_covid_df = pd.read_csv(\"data/SaoPaulo_dados_covid.csv\")\n",
    "saopaulo_covid_df.drop(labels='Unnamed: 0', axis=1, inplace=True)\n",
    "# calculo da população total da cidade de São Paulo a partir dos dados da última coluna no arquivo SaoPaulo_dados_covid.csv\n",
    "saopaulo_pop_tot = int(saopaulo_covid_df['pop'].mean())\n",
    "# extarir os casos confirmados\n",
    "saopaulo_casos = saopaulo_covid_df['casos'].to_numpy().reshape(-1,1)\n",
    "# mostrar os primeiros 5 dados do arquivo \n",
    "saopaulo_covid_df.head()"
   ]
  },
  {
   "cell_type": "markdown",
   "metadata": {},
   "source": [
    "Simulação do primeiro modelo ded vacinação para a cidade de São Paulo"
   ]
  },
  {
   "cell_type": "code",
   "execution_count": 5,
   "metadata": {},
   "outputs": [],
   "source": [
    "# A condição inicial é o último valor obtido na simulação anterior\n",
    "s0 = simulac[-1,1]\n",
    "i0 = simulac[-1,2]\n",
    "sick0 = simulac[-1,3]\n",
    "x0 = np.array([s0, i0, sick0])\n",
    "# o tempo inicial da simulação tambémdeve ser o último valor obtido na simulação anterior\n",
    "t0 = simulac[-1,0]\n",
    "h = 1 # passo de integração é um dia\n",
    "N = 400 # número de iterações\n",
    "tf = t0 + N\n",
    "# com theta igual a \n",
    "theta = 0.45\n",
    "# com omega igual a\n",
    "omega = 0.51\n",
    "# os parâmetros:\n",
    "p = np.zeros(8)\n",
    "p[0] = mu_otm\n",
    "p[1] = gamma_otm\n",
    "p[2] = alpha_otm\n",
    "p[3] = theta\n",
    "p[4] = beta1_otm\n",
    "p[5] = beta2_otm\n",
    "p[6] = beta3_otm\n",
    "p[7] = omega"
   ]
  },
  {
   "cell_type": "code",
   "execution_count": 6,
   "metadata": {},
   "outputs": [],
   "source": [
    "from __future__ import print_function\n",
    "from ipywidgets import interact, interactive, fixed, interact_manual \n",
    "import ipywidgets as widgets"
   ]
  },
  {
   "cell_type": "code",
   "execution_count": 7,
   "metadata": {},
   "outputs": [
    {
     "data": {
      "application/vnd.jupyter.widget-view+json": {
       "model_id": "1c2ba5be83a64e3ab20c83815a22ad1e",
       "version_major": 2,
       "version_minor": 0
      },
      "text/plain": [
       "interactive(children=(FloatSlider(value=0.45, description='$\\\\theta :$', max=1.0, step=0.01), FloatSlider(valu…"
      ]
     },
     "metadata": {},
     "output_type": "display_data"
    }
   ],
   "source": [
    "#@interact(theta_slider=(0, 1, 0.01), omega_slider=(0, 1, 0.01))\n",
    "@interact(theta_slider=widgets.FloatSlider(min=0.0, max=1.0, step=0.01, value=0.45, description=\"$\\\\theta :$\"),\\\n",
    "          omega_slider=widgets.FloatSlider(min=0.0, max=1.0, step=0.01, value=0.45, description=\"$\\\\omega :$\"))\n",
    "def run_sim(theta_slider, omega_slider):  \n",
    "    p[3] = theta_slider\n",
    "    p[7] = omega_slider\n",
    "    t, sol =  rk4(lambda t, x: modelo_vac_1(t, x, p), x0, t0, tf, h)\n",
    "    # concatenando os resultados obtidos aqui 't' e 'sol' com os dados da simulação anterior para obter a dinâmica total\n",
    "    t_tot = np.concatenate((simulac[:,0],t))\n",
    "    sol_tot = np.concatenate((simulac[:,1:4],sol))\n",
    "    # criando um vetor de dias\n",
    "    dia1 = pd.to_datetime(saopaulo_covid_df['datahora'][0], format=\"%Y/%m/%d\")\n",
    "    dias_tot = pd.date_range(dia1, periods=t_tot.size).tolist()\n",
    "    dias_dados = pd.date_range(dia1, periods=simulac[:,0].size).tolist()\n",
    "    # Os graficos das soluções\n",
    "    plt.scatter(dias_dados, saopaulo_casos, color='orange', label='dados reais')\n",
    "    plt.plot(dias_tot, sol_tot[:,2]*saopaulo_pop_tot, linewidth=3, label='casos confirmados')\n",
    "    plt.grid()\n",
    "    plt.legend()\n",
    "    plt.title('Casos confirmados de COVID-19 - Cidade de São Paulo')\n",
    "    plt.xlabel('Datas')\n",
    "    #plt.ylabel('Número de casos confirmados de COVID-19')\n",
    "    plt.grid()\n",
    "    plt.show()\n",
    "    return"
   ]
  },
  {
   "cell_type": "code",
   "execution_count": 8,
   "metadata": {},
   "outputs": [
    {
     "name": "stderr",
     "output_type": "stream",
     "text": [
      "/home/diego/anaconda3/lib/python3.8/site-packages/seaborn/_decorators.py:36: FutureWarning: Pass the following variables as keyword args: x, y. From version 0.12, the only valid positional argument will be `data`, and passing other arguments without an explicit keyword will result in an error or misinterpretation.\n",
      "  warnings.warn(\n"
     ]
    },
    {
     "data": {
      "text/plain": [
       "Text(0, 0.5, 'Probability Density')"
      ]
     },
     "execution_count": 8,
     "metadata": {},
     "output_type": "execute_result"
    },
    {
     "data": {
      "image/png": "[encoded data removed]",
      "text/plain": [
       "<Figure size 1500x500 with 1 Axes>"
      ]
     },
     "metadata": {},
     "output_type": "display_data"
    }
   ],
   "source": [
    "from scipy.stats import norm\n",
    "import numpy as np\n",
    "import matplotlib.pyplot as plt\n",
    "import seaborn as sb\n",
    " \n",
    "# Creating the distribution\n",
    "data = np.arange(1,10,0.01)\n",
    "pdf = norm.pdf(data , loc = 5.3 , scale = 1 )\n",
    " \n",
    "#Visualizing the distribution\n",
    " \n",
    "sb.set_style('whitegrid')\n",
    "sb.lineplot(data, pdf , color = 'black')\n",
    "plt.xlabel('Heights')\n",
    "plt.ylabel('Probability Density')"
   ]
  },
  {
   "cell_type": "code",
   "execution_count": null,
   "metadata": {},
   "outputs": [],
   "source": []
  }
 ],
 "metadata": {
  "kernelspec": {
   "display_name": "Python 3",
   "language": "python",
   "name": "python3"
  },
  "language_info": {
   "codemirror_mode": {
    "name": "ipython",
    "version": 3
   },
   "file_extension": ".py",
   "mimetype": "text/x-python",
   "name": "python",
   "nbconvert_exporter": "python",
   "pygments_lexer": "ipython3",
   "version": "3.8.5"
  }
 },
 "nbformat": 4,
 "nbformat_minor": 4
}
